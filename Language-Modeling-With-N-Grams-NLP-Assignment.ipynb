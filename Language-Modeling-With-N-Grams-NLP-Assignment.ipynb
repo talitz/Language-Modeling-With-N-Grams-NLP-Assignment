{
 "cells": [
  {
   "cell_type": "code",
   "execution_count": 2,
   "metadata": {},
   "outputs": [
    {
     "name": "stdout",
     "output_type": "stream",
     "text": [
      "a cat sat on the mat . a fat cat sat on the mat . a rat sat on the mat . the rat sat on the cat . a bat spat on the rat that sat on the cat on the mat . \n",
      "defaultdict(<class 'int'>, {'a cat sat on': 1, 'cat sat on the': 2, 'sat on the mat': 3, 'on the mat .': 4, 'the mat . a': 2, 'mat . a fat': 1, '. a fat cat': 1, 'a fat cat sat': 1, 'fat cat sat on': 1, 'mat . a rat': 1, '. a rat sat': 1, 'a rat sat on': 1, 'rat sat on the': 2, 'the mat . the': 1, 'mat . the rat': 1, '. the rat sat': 1, 'the rat sat on': 1, 'sat on the cat': 2, 'on the cat .': 1, 'the cat . a': 1, 'cat . a bat': 1, '. a bat spat': 1, 'a bat spat on': 1, 'bat spat on the': 1, 'spat on the rat': 1, 'on the rat that': 1, 'the rat that sat': 1, 'rat that sat on': 1, 'that sat on the': 1, 'on the cat on': 1, 'the cat on the': 1, 'cat on the mat': 1})\n",
      "cat sat on the mat . a rat\n"
     ]
    }
   ],
   "source": [
    "import ex1\n",
    " \n",
    "text = 'A cat sat on the mat. A fat cat sat on the mat. A rat sat on the mat. The rat sat on the cat. A bat spat on the rat that sat on the cat on the mat.'\n",
    "nt = ex1.normalize_text(text) #lower casing, padding punctuation with white spaces\n",
    "print(nt)\n",
    "lm = ex1.Ngram_Language_Model(n=4, chars=False)\n",
    "lm.build_model(nt)  #*\n",
    "print(lm.get_model()) #*\n",
    "t = lm.generate(context = 'cat sat on',n=30)\n",
    "print(t)\n",
    "#for e in [t, 'a cat sat on the mat','the rat sat on the cat' ]: #*\n",
    "#    print('%s | %.3f' %(e, lm.evaluate(e)))"
   ]
  }
 ],
 "metadata": {
  "kernelspec": {
   "display_name": "Python 3",
   "language": "python",
   "name": "python3"
  },
  "language_info": {
   "codemirror_mode": {
    "name": "ipython",
    "version": 3
   },
   "file_extension": ".py",
   "mimetype": "text/x-python",
   "name": "python",
   "nbconvert_exporter": "python",
   "pygments_lexer": "ipython3",
   "version": "3.7.3"
  }
 },
 "nbformat": 4,
 "nbformat_minor": 2
}
