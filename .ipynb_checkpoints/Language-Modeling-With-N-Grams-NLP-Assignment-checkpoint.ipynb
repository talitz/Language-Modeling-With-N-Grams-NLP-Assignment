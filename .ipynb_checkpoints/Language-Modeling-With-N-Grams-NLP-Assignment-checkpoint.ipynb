{
 "cells": [
  {
   "cell_type": "code",
   "execution_count": 2,
   "metadata": {},
   "outputs": [
    {
     "name": "stdout",
     "output_type": "stream",
     "text": [
      "a cat sat on the mat . a fat cat sat on the mat . a rat sat on the mat . the rat sat on the cat . a bat spat on the rat that sat on the cat on the mat . \n"
     ]
    }
   ],
   "source": [
    "import ex1\n",
    " \n",
    "text = 'A cat sat on the mat. A fat cat sat on the mat. A rat sat on the mat. The rat sat on the cat. A bat spat on the rat that sat on the cat on the mat.'\n",
    "nt = ex1.normalize_text(text) #lower casing, padding punctuation with white spaces\n",
    "print(nt)\n",
    "lm = ex1.Ngram_Language_Model(n=3, chars=False)\n",
    "lm.build_model(nt)  #*\n",
    "print(lm.get_model()) #*\n",
    "t = lm.generate(context = 'a cat',n=30)\n",
    "for e in [t, 'a cat sat on the mat','the rat sat on the cat' ]: #*\n",
    "    print('%s | %.3f' %(e, lm.evaluate(e)))"
   ]
  },
  {
   "cell_type": "code",
   "execution_count": null,
   "metadata": {},
   "outputs": [],
   "source": []
  }
 ],
 "metadata": {
  "kernelspec": {
   "display_name": "Python 3",
   "language": "python",
   "name": "python3"
  },
  "language_info": {
   "codemirror_mode": {
    "name": "ipython",
    "version": 3
   },
   "file_extension": ".py",
   "mimetype": "text/x-python",
   "name": "python",
   "nbconvert_exporter": "python",
   "pygments_lexer": "ipython3",
   "version": "3.7.3"
  }
 },
 "nbformat": 4,
 "nbformat_minor": 2
}
